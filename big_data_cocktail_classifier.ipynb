{
  "nbformat": 4,
  "nbformat_minor": 0,
  "metadata": {
    "colab": {
      "name": "big_data_cocktail_classifier",
      "provenance": [],
      "collapsed_sections": []
    },
    "kernelspec": {
      "name": "python3",
      "display_name": "Python 3"
    },
    "language_info": {
      "name": "python"
    }
  },
  "cells": [
    {
      "cell_type": "markdown",
      "metadata": {
        "id": "qs7SrsYdKC0e"
      },
      "source": [
        "# **Import libraries**"
      ]
    },
    {
      "cell_type": "code",
      "metadata": {
        "id": "wUlEtJI3UWFL"
      },
      "source": [
        "import csv"
      ],
      "execution_count": 3,
      "outputs": []
    },
    {
      "cell_type": "code",
      "metadata": {
        "id": "Fjyhk7yo_7xV"
      },
      "source": [
        "my_data = [] #우리의 전처리된 데이터가 여기에 담길 것"
      ],
      "execution_count": null,
      "outputs": []
    },
    {
      "cell_type": "markdown",
      "metadata": {
        "id": "JtiRjFMwKHPr"
      },
      "source": [
        "# **Personalized functions** "
      ]
    },
    {
      "cell_type": "code",
      "metadata": {
        "id": "ef83YG_7Qsy0"
      },
      "source": [
        "def hasNumber(stringVal) :\n",
        "  return any(elem.isdigit() for elem in stringVal)"
      ],
      "execution_count": null,
      "outputs": []
    },
    {
      "cell_type": "code",
      "metadata": {
        "id": "mtStW-bvWUzy"
      },
      "source": [
        "def getDigit(stringVal) :\n",
        "  onlyDigit = ''\n",
        "  for i in stringVal :\n",
        "    if (i.isdigit()) :\n",
        "      onlyDigit += i\n",
        "  return onlyDigit"
      ],
      "execution_count": null,
      "outputs": []
    },
    {
      "cell_type": "markdown",
      "metadata": {
        "id": "oMIfwNisKMKZ"
      },
      "source": [
        "# **Read data from csv and pre-process data**"
      ]
    },
    {
      "cell_type": "code",
      "metadata": {
        "id": "B_laKGDjUyyO"
      },
      "source": [
        "f = open('mr-boston-flattened.csv','r')\n",
        "rdr = csv.reader(f)\n",
        "\n",
        "line_count = 0\n",
        "for line in rdr :\n",
        "  if (line_count == 0) :\n",
        "    line_count += 1\n",
        "    pass\n",
        "  else :\n",
        "    #변수 초기화\n",
        "    cocktail = [] #우리 데이터 한 row\n",
        "    cocktail_ingredient_measure = [] #칵테일 성분 정보(딕셔너리의 리스트로 구성 [{성분1 : 용량}, {성분2 : 용량}, ... ])\n",
        "    measurement_list = [] \n",
        "    ingred_idx = 3 #용량에 mapping 되는 ingredient idx\n",
        "    new_measurement_list = [] #변경한 값 담는 배열\n",
        "    \n",
        "    for i in range(2,14,2) : #각 row에 measurement 뽑아서 list에 넣기\n",
        "      measurement_list.append(line[i])\n",
        "\n",
        "    for j in measurement_list : #measure\n",
        "      if (hasNumber(j) == False) : #숫자가 하나도 없고 전부 문자열인 경우\n",
        "        new_measurement_list.append(0)\n",
        "      elif (j == '') : #빈 값인 경우 읽기 때문에 0으로 변경해줌\n",
        "        new_measurement_list.append(0)\n",
        "\n",
        "      else : #'1 1/2 oz' 형식으로 되어있음 따라서 공백으로 자르고 처리\n",
        "        slice_str = []\n",
        "        slice_str = j.split()\n",
        "        total_val = 0\n",
        "        \n",
        "        for n in slice_str : #잘라진 '1' '1/2' 'oz' 처리\n",
        "          if (n.isalpha()) :\n",
        "            pass\n",
        "          else :\n",
        "            if (n.find('/') == -1) : #그냥 숫자인 경우\n",
        "              num_tmp = getDigit(n)\n",
        "\n",
        "              if (num_tmp == '') :\n",
        "                num_tmp = 0\n",
        "\n",
        "              total_val += int(num_tmp)\n",
        "            else : # 1/2 인 경우\n",
        "              idx = n.find('/')\n",
        "              divide_val = int(n[:idx]) / int(n[idx+1:])\n",
        "              total_val += divide_val\n",
        "        new_measurement_list.append(total_val)\n",
        "        \n",
        "\n",
        "### 여기까지 오면 new_measurement_list에는 숫자만 들어있음\n",
        "    total_measurement_value = sum(new_measurement_list)\n",
        "\n",
        "    for j in new_measurement_list :\n",
        "      if (line[ingred_idx] != '') :\n",
        "\n",
        "        ing_measure_pair = {line[ingred_idx] : j}\n",
        "        cocktail_ingredient_measure.append(ing_measure_pair)\n",
        "      \n",
        "      ingred_idx += 2\n",
        "\n",
        "    #칵테일 이름\n",
        "    cocktail.append(line[0])\n",
        "    #칵테일 라벨\n",
        "    cocktail.append(line[1])\n",
        "    #성분 전체 용량\n",
        "    cocktail.append(total_measurement_value)\n",
        "    #각 성분별 성분명, 용량 딕셔너리\n",
        "    cocktail.append(cocktail_ingredient_measure)\n",
        "    my_data.append(cocktail)\n",
        "\n",
        "f.close()"
      ],
      "execution_count": null,
      "outputs": []
    },
    {
      "cell_type": "markdown",
      "metadata": {
        "id": "ozmop6NZVktP"
      },
      "source": [
        "# **Label and ingredient set**"
      ]
    },
    {
      "cell_type": "code",
      "metadata": {
        "colab": {
          "base_uri": "https://localhost:8080/"
        },
        "id": "hlJktkKcVrTk",
        "outputId": "9b4cceed-f958-410c-d0f9-d6bb58d521d5"
      },
      "source": [
        "label = []\n",
        "ingredient = []\n",
        "\n",
        "f = open('mr-boston-flattened.csv','r')\n",
        "rdr = csv.reader(f)\n",
        "line_count = 0\n",
        "for line in rdr :\n",
        "  if (line_count == 0) :\n",
        "    line_count += 1\n",
        "    pass\n",
        "  else :\n",
        "      label.append(line[1])\n",
        "      for i in range(3,15,2) :\n",
        "        ingredient.append(line[i])\n",
        "f.close()\n",
        "\n",
        "label = set(label)\n",
        "ingredient = set(ingredient)\n",
        "\n",
        "label = list(label)\n",
        "ingredient = list(ingredient)\n",
        "\n",
        "print(label)\n",
        "print(\"total label num: \",len(label))\n",
        "print(ingredient)\n",
        "print(\"total ingredient num :\",len(ingredient))"
      ],
      "execution_count": 14,
      "outputs": [
        {
          "output_type": "stream",
          "name": "stdout",
          "text": [
            "['Tequila', 'Shooters', 'Rum - Daiquiris', 'Rum', 'Whiskies', 'Gin', 'Cordials and Liqueurs', 'Brandy', 'Cocktail Classics', 'Non-alcoholic Drinks', 'Vodka']\n",
            "total label num:  11\n",
            "['', ' cherry-flavored brandy', ' Fresh ginger', ' Lime wheel', ' Tequila', ' orgeat or almond syrup', ' Ground cinnamon', ' Chilled beer or ale', ' Old Mr. Boston White Creme de Menthe', ' Orange Bitters (if desired)', ' Orange Bitters', ' Mint sprigs', ' Fresh Lime Juice', ' Anisette', ' Orange twist, flamed', ' Blood or navel orange half-wheel', ' Fresh mint sprig', \" Chilled Moscato d'Asti or sweet sparkling wine\", ' Chilled Passion Fruit Juice', ' each Simple Syrup, light rum, dark rum', ' Claret', ' mint leaves', ' Gin & ginger ale', ' Bacardi Rum', ' Old Mr. Boston Blended Whiskey', ' Lemon wedge, superfine sugar', ' Fresh white or ruby red grapefruit juice', ' Creme de Menthe', ' Juice of Orange', ' Heavy cream', ' Ginger ale', ' Tonic water', ' Dark rum, preferably Jamaican', ' Maraschino', ' Creole Shrubb (rum-based orange liqueur)', ' each Cranberry Juice and orange juice', ' Oloroso sherry', ' Lime wedge, superfine sugar', ' Dubonnet ', ' Tomato Juice', ' Red grapes', ' Irish cream liqueur', ' Orange and lemon wheels', ' Tanqueray gin', 'Bourbon', ' Creme de Cacao (White)', 'powdered sugar', ' Orange half-wheel', ' Orange zest spiral, maraschino cherry', ' Anis', ' Light Cream (if desired)', ' Lemon wheel, pineapple chunk', \" Rose's Lime Juice\", ' White Curacao', ' Whiskey barrel bitters', ' Agave nectar', ' Rye Whiskey', ' Pepper', ' Lime soda, orange wheel, maraschino cherry', ' Gold rum', ' Margarita Mix', ' Light or dark rum', ' Almond milk', ' Mr. Boston Gin', ' Pineapple wedge, maraschino cherry', ' Dubonnet Rouge', ' Medium Eggs', ' Lemon-lime soda', ' Honey', ' Lime soda', ' Fresh grapefruit juice', ' Pepper and Salt', ' Fresh seasonal fruit', ' Egg Yolk, 1 oz', ' Catsup', ' Ginger syrup', ' Drambuie', ' Raspberry Juice', ' Honey liqueur', ' Scotch Whiskey', ' Amaro Nonino', ' Sugar Syrup', ' 100-proof Vodka', ' Creme Yvette', ' Orange and lemon wheels, maraschino cherry', ' port', ' blended whiskey', ' Lillet Blanc', ' Cointreau triple sec', ' Lime wedge, coarse salt', ' Water', ' Vodka', ' each Citrus-flavored vodka and orange-flavored vodka', ' 7-Up', ' Gin', ' Milk or half-and-half', ' Gold tequila', ' Egg Yolk', ' Jamaica Rum', ' Edible flower, such as nasturtium', ' Light Rum', ' Triple Sec', ' Old Mr. Boston Green Creme de Menthe', ' V8 cocktail juice', ' Manzanilla sherry', ' Cold beef bouillon', ' Blackberry liqueur', ' Apple slice', ' Hot red pepper sauce', ' Mole bitters 1 oz', ' Butterscotch schnapps', 'bitters', ' Superfine sugar', ' Orange and/or lemon zest spiral', ' Lime', ' Coconut rum', ' Raspberries, lemon twist', ' Fresh sage leaves', ' Iced tea', ' Lime wheel skewered with blueberry and Bing cherry', ' Grapefruit soda', ' Light Sweet Cream', ' Ginger beer, 1 oz', ' Freshly grated nutmeg, ground cinnamon', ' each Triple Sec, simple syrup', ' Light Vermouth', ' Mr. Boston Five Star Brandy', ' each Fresh lemon juice, simple syrup, 1 lime wheel', ' Cold brewed chai tea', ' Hot Black Coffee', ' Chocolate bitters', ' chilled Rhine wine or Sauterne', ' Port', ' Creme de Cacao (Brown)', ' Sugar', 'ginger ale', ' Orange twist', ' Clementine or mandarin orange', ' Lime wedge, pink sanding sugar', ' Lime Liqueur', ' Blanco tequila', ' White creme de cacao', ' Carbonated Water', ' Pear brandy', ' Rum-soaked black cherry', ' Fresh strawberries, cut in half', ' Old Mr. Boston Creme de Menthe (White)', ' Grapefruit marmalade', ' Tonic', ' Calvados, apple brandy, or applejack', ' Fresh cilantro leaves', ' Black cherry juice', ' Orange liqueur', ' Orgeat Syrup', ' Celery stick', ' Lemon wedges', ' Aromatic bitters', ' Fresh orange juice', ' Fresh rosemary sprig', ' Sweet pickle brine', ' Ripe pear', ' Single-malt Scotch whisky', ' Club Soda', ' Lemon wedge, Cinnamon Sugar', ' Fresh Lime Juice, whole strawberry', ' Light cream, 1/2 oz', ' Mountain Dew', ' Guava puree', ' Vinegar', ' Absinthe or pastis', ' Whole strawberry, hulled', ' Bitter lemon soda', ' Raspberry Yogurt', ' Cinnamon sticks', ' Root Beer', ' Cola', ' Apple Flavored Brandy', ' Maraschino cherry', ' Soda water or ginger ale', ' Peppermint schnapps', ' Canned coconut milk', ' Cranberry Juice', ' White rum', ' Orange and lime wheels', ' Fresh lemon juice, lemon twiste, fresh pomegranate seeds', ' Lime wedge, superfine sugar or coarse salt (optional)', ' VS cognac', '  Old Mr. Boston Triple Sec', ' Lemon and/or orange zest spiral(s)', ' Pear-flavored vodka', ' each Dark rum, light rum', ' Grapefruit-flavored soda', ' White creme de menthe', ' Old Mr. Boston Kummel', ' Whipped cream', ' Becherovka (Czech digestif)', ' Fresh celery juice', ' Fresh strawberries, cut in halves', ' Crushed ice', ' Cynar', 'thin Peeled fresh ginger', ' Applejack', ' Angostura bitters', ' Coconut Milk', ' Black raspberry liqueur', ' Lillet Rouge', ' 17-year-old J. Wray and Nephew Ltd. Rum', ' ketchup', ' Juice of a Lemon', ' Bitters', ' Lemon or Orange Sherbet', ' Pisco', ' Forbidden Fruit', ' Orange curacao', ' Creme de noyaux', ' Dry Vermouth', 'lump of sugar', ' Whipped cream and 3/4 oz', ' Lime wedge coarse salt', ' Whole Egg', ' Coarse salt', ' Sweet pickle slice', ' Hennessy V.S Cognac', ' Fresh Lime Juice, lime wheel', ' Raspberry-flavored vodka', ' Mint-Flavored Gin', ' Fresh mint leaf', ' Wine (Port, Cream Sherry, Claret, Burgundy, or Madeira)', ' Whole milk', ' Old Mr. Boston Orange Flavored Gin ', ' Green olive', ' Rosemary sprig', ' Raspberry Ice Cream', ' each Simple Syrup, angostura bitters', ' Lemon wedge, coarse salt', ' Creme de Menthe (White)', ' Slice peeled fresh ginger', ' Lemon half-wheel, maraschino cherry', ' Fresh basil leaves', ' Peach liqueur', ' Rock and Rye', ' Canadian whisky', ' each Fresh lemon juice, fresh lime juice', ' Cherry liqueur', ' Batavia arrack or light rum', ' Pineapple ', ' Bing cherries', ' Peach schnapps', ' each Fresh lemon juice, triple sec', ' Reposado tequila', ' Sweet sherry, preferably Pedro Ximenez', ' Dry gin', ' Cucumber slice, fresh mint sprig', ' each Orange juice and sweet sherry', ' Old Mr. Boston Sloe Gin', 'lemon peel', ' Cucumber slices', ' orange juice', ' Old Mr. Boston Apricot Flavored Brandy', ' Hot Apple Cider', ' Pineapple wedge', ' each Cranberry Juice, orange juice, pineapple juice, lemon juice', ' Lime wedges', ' Old Mr. Boston White Creme de Cacao', ' Apricot-Flavored Brandy', ' Smoky Scotch, such as Laphroaig', \" The Bitter Truth's Jerry Thomas' Own Decanter Bitters\", ' Tawny port', ' Freshly grated nutmeg, orange wheel', ' Unsprayed rose petal', ' Gingerbread liqueur', 'whole cloves', ' Amer Picon or Torani Amer', ' Sweet Vermouth', ' Grated bittersweet chocolate', ' Smoky Scotch whisky, such as Islay or Skye', ' Fernet-Branca', ' Dill pickle brine', ' Galliano', ' Desmond & Duff Scotch Whisky', ' Mango-flavored vodka', ' Passion Fruit Juice', 'Whole Egg', ' Strawberry, chopped', ' Honey-Currant Syrup', ' Lime juice, coarse salt', ' Orange half-wheel, maraschino cherry', ' Fresh ruby red grapefruit juice', 'springs mint', ' Lime wedge; honeydew melon wedge or maraschino cherry', ' each Lillet Blanc and Lillet Rouge', ' Pedro Ximenez sherry', ' Jalapeno-Infused Tequila', ' Canned pitted lychee nut stuffed with a small pineapple leaf', ' Coconut liqueur', ' Maraschino liqueur', ' Roses Lime Juice', ' Amontillado sherry', ' Chilled sparkling wine or Champagne', ' Elderflower liqueur', ' Raspberry-flavored liqueur', ' Grapefruit bitters', ' Lime wedge, Sweet Chili Powder', ' Lemon wedge, superfine sugar,  Long, wide spiral of orange zest', ' Sparkling wine, raspberry and cucumber', ' Cognac', \" Pimm's No. 1 Cup\", ' Lychee liqueur', ' Bourbon', ' Whole Egg and grated nutmet', ' Aged rhum agricole', ' Cherry Heering', ' Lime twist', ' Lemon and lime wheels', ' Thyme sprig', ' Amaro', ' Fresh raspberries and strawberries, 2 peach slices, maraschino cherry', ' Ruby port', ' Old Mr. Boston Rock and Rye', ' Peach slice', ' Strawberry liqueur', ' Lime soda, pineapple wedge, maraschino cherry or lime wheel', ' Cinnamon stick', \" Vanilla syrup, preferably B.A. Reynold's\", ' Vermouth', ' Strawberry', ' Aquavit', ' Simple Syrup, 1/2 oz', ' Lemonade', ' Swedish Punch', ' Grapefruit-flavored vodka', ' Amaretto', ' Rhubarb bitters', 'lemon twist', ' Old Mr. Boston Tequila', ' each Simple Syrup, grenadine', ' Warm milk', ' Muscatel Wine', ' Rye or bourbon whiskey', ' Cold brewed coffee', ' Fresh mint leaves', ' Absinthe', ' Madeira', ' Grapefruit twist, flamed', ' Soda water, strawberry slide, fresh basil leaf', ' Peach slice, lemon wheel', ' Lemon-lime soda, cucumber slice', ' Orange Flavored Gin', ' Smoky Scotch whisky, such as Laphroaig', ' Cachaca', ' Cherry Vodka', ' Reposado blanco tequila', ' Honey Syrup', 'boiling water', ' Unsweetened Grape Juice', 'pineapple', ' Splash triple sec', ' Lemon, orange, and pineapple slices; maraschino cherry', ' Apricot nectar', ' Jalapeno hot pepper sauce, cucumber slice', ' Mint syrup', ' Sparkling apple cider', ' Fresh lemon or lime juice', ' Whole strawberry', ' Apple cider', ' Dark rum', ' Celery stalk, lemon wedge', ' Coffee-flavored brandy', ' powdered sugar', ' Sloe gin', ' Chilled sparkling wine', ' Black cherry-flavored vodka', ' Absinthe Substitute', ' Aperol', ' Cinnamon schnapps', ' Strega', ' Coffee-flavored liqueur', ' Tomato Catsup', ' Dried Orange Peel', ' Blood orange juice', ' Cayenne Pepper', ' Coffee liqueur', ' Sugar cube', ' Mango nectar', ' Light cream', ' Passion Fruit Juice, basil leaf', ' Chile Syrup', ' Mr. Boston Creme de Noyaux ', ' Banana', ' each Worcestershire Sauce, salt, ground black pepper', 'For glass Lemon wedge, coarse salt', ' Almond or orgeat syrup', ' Blood orange liqueur', 'water', ' Danish Cherry Wine', ' Lemon wheel, maraschino cherry', ' Orange wheel', ' Juice of a Blood Orange', ' each Fresh lemon juice and cranberry juice', ' Allspice liqueur (pimento dram)', ' Peach slice, skinned', ' Apple juice', ' White curacao or triple sec', ' Thin pear slice', ' Minced ginger', ' Grapefruit twist or skewered raspberry', ' Grapefruit Juice', ' Old Mr. Boston Vodka', ' Passion Fruit Syrup', ' Straight rye whisky', ' Fresh blackberries and raspberries', 'lemon slice', \" Peychaud's Bitters\", ' Apple Brandy', ' Amaretto di Saronno', ' Pineapple or grapefruit juice', ' Powdered Nutmeg', ' Dehydrated Orange Wheel', ' Punt e Mes', 'Cucumber slices, chopped', ' Freshly grated nutmeg', ' Champagne or sparkling wine, mint sprig', ' Heavy Cream, Whipped', ' Mezcal', ' Dubonnet', ' Old Mr. Boston Rum', ' Armagnac', ' Lemon wedge', ' Peychaud Bitters', ' Lemon wheel, coarse salt', ' Bourbon Whiskey', ' Peach puree', ' Jamaican ginger beer', ' Lemon wedge, celery salt', ' White Port Wine', ' sweet vermouth', ' Wide spiral of lemon zest', ' Lime wedge', ' Creme de banana', ' Cold Water', ' each Fresh Lime Juice, lemon juice, pineapple juie, and passion fruit syrup', ' Lime Vodka', ' Grenadine, maraschino cherry', ' Fresh mint sprig; pineapple wedge skewered with maraschino cherry', ' Old Mr. Boston 100 proof Vodka', 'carbonated water', ' Palo cortado or oloroso sherry', ' Limoncello', ' Crushed Pineapple', ' Bourbon or Rye Whiskey', ' Italian preserved cherry', ' Strawberry schnapps', ' Ramazzotti Amaro', ' Aquavit or vodka', ' Pomegranate molasses', ' Champagne, chopped fresh mint', ' Apple schnapps', ' cream sherry', ' Cold brewed black tea, preferably Japanese', ' each Fresh orange juice, pineapple juice, cranberry juice', ' Creme de Cacao', ' Grapefruit twist', ' Simple Syrup, 3/4 oz', ' Spiced rum', ' Old Mr. Boston Imported Rum', ' Mr. Boston Vodka', ' Calvados', ' Peach', ' Green creme de menthe', ' Champagne', ' Old Mr. Boston Anisette ', ' Fresh grenadine', ' White grapes', 'shaved ice', ' Dry Sherry', ' Vanilla Ice Cream', ' Blueberries', ' Golden Delicious apple wedge', ' Kummel', ' Blended Scotch Whiskey', ' Fresh cilantro sprigs', ' Orange-flavored vodka', 'Juice of Lemon or Lime', ' Green Chartreuse', ' Soda water, Orange and lemon wheels, maraschino cherry', ' Mr. Boston Creme de menthe', ' Orange wheel, maraschino cherry', ' African rum', ' Orange blossoms (optional): orange wedge', ' Ginger ale, lime wheel', ' carbonated water', ' Anejo tequila', ' each Vodka, tequila blanco, triple sec', ' Old Mr. Boston Five Star Brandy', ' Lemon or Lime Juice', ' Peach bitters', ' Cream sherry', ' Soda water', ' each Orange juice and simple syrup', ' Creme de violette', ' Stick of cotton candy', ' Fresh carrot juice', ' Mr. Boston Rum', ' Old Mr. Boston Triple Sec', 'champagne', ' Hot Shot Tropical Fruit Liqueur', ' Blended whiskey', ' Orange and/or lemon zest', ' Lemon twist (optional)', ' Old Tom gin', ' Kirschwasser', ' each Fresh lemon juice, Angostura bitters', ' Creme fraiche', ' Peach-flavored vodka', ' Tomato-clam juice', ' Simple Syrup', ' Ginger ale or soda water', ' Apricot Flavored Brandy', ' Ginger beer', ' Falernum', ' Egg White', ' Grape Juice', ' Pear liqueur', ' Brandy', ' Orange Juice', ' Worcestershire Sauce', ' each Fresh Lime Juice, jamaica rum, grenadine', ' Sour Mix', \" tiki bitters, such as Bittermen's Elemakule\", ' Angostura Bitters, flamed lemon twist', ' B & B', \" Tiki (such as Bittermen's 'Elemakule) or Angostura bitters (optional) Garnish: Fresh mint sprig\", ' Prepared horseradish', ' Fresh cherry tomatoes', ' Cold brewed espresso coffee', ' Bourbon whiskey', ' Ginger liqueur', ' Cointreau or triple sec', ' Clam Juice', ' Mango slice', ' Cherry-flavored brandy, superfine sugar', ' Cold brewed green tea', ' Juice of a Lime', ' Creme de peche', ' Sweet Sherry', ' Dark creme de cacao', ' lemon-flavored vodka', ' Black licorice stick', ' Creme de Cassis', ' Scotch', 'lemon', 'Lime wedges', ' Grand Marnier', ' Lemon twist, maraschino cherry', ' Cucumber', ' Hard cider', ' Pastis', ' Salt', 'orange peel', ' Lemon wheel', ' Vanilla liqueur and 3 oz', ' Grenadine, lime wheel', ' Agave nectar, strawberry slice', ' Acai berry flavored vodka', 'cola', ' Blue curacao', ' Sweet Cream', ' Concord grape juice', ' Rose water', ' White chocolate liqueur', ' Vanilla liqueur', ' Blood orange wheel', 'Cider', ' Mango juice', ' Freshly ground black pepper to taste, lime wedge, celery stalk', ' Simple Syrup Scant', ' Chilled American sparkling wine', ' Olive brine', 'Anejo tequila', ' Orange blossom water', 'Lime wedge, superfine sugar', ' Mr. Boston Apricot Flavored Brandy', ' Grenadine', ' Pomegranate juice', 'Chilled Champagne', ' Lime wheel, maraschino cherry', ' Green apple slice, lime wedge', ' Fresh lime juice (reserve 1/2 lime shell for garnish)', 'cloves', ' Tropical fruit schnapps', ' Lemon twist', ' Angostura Bitters, lime wheel', 'Fresh mint leaves', ' Powdered Sugar', ' Orange', ' Almond extract', ' White or dark creme de cacao', ' Georgia Moon Corn Whiskey', ' Soda water, orange and lemon wheels', ' Mr. Boston Triple Sec', ' Red wine', ' Pomegranate syrup', ' Apple schnapps, grapefruit twist', ' 151-Proof Rum', ' Fresh raspberry', ' Soda water (optional)', ' Irish Whiskey', ' Ginger ale, strawberry slice', 'hot red pepper sauce', ' Cream of coconut', ' Lemon or lime wedge', ' Tennessee whiskey', ' Edible flowers', 'Absinthe', ' Old Thompson Blended Whiskey', ' Sake', ' Benedictine', ' Collins Mix', ' Old Kentucky Tavern Bourbon Whiskey', ' Fresh lemon juice and 3 oz', ' Vanilla-Infused Bourbon', 'lemon wheel, orange wheel, maraschino cherry', ' Blackberry-flavored brandy', ' Rock candy syrup or simple syrup', ' Citrus-flavored vodka', ' maple syrup (grade B or medium-amber)', ' Celery Salt', ' Old Mr. Boston Wild Cherry Flavored Brandy', ' each Light Rum, Gin, Vodka, Blanco tequila, Blue curacao', 'red wine', ' each Cranberry Juice, orange juice, spiced rum', ' Old Mr. Boston Dry Gin', ' Old Mr. Boston Grape Vodka', ' Small pineapple slice', ' Lemon Juice', ' Bourbon or rye whiskey', ' Fresh lemon juice', ' Brown sugar cube, such as Demerara', ' Lemon, orange, and pineapple slices; maraschino cherry; fresh mint sprig dipped in sugar', ' Mandarine Napoleon Liqueur', ' Demerara Syrup', ' Fresh apple cider', ' orange zest ', ' Coconut-flavored rum', ' Freshly ground black pepper', ' Long thyme sprigs', ' Orange marmalade, grapefruit twist', ' Chilled Champagne', ' Milk', ' Orange juice', ' Egg', ' Peeled and chopped fresh ginger', ' Lemon quarter-wheel', ' Lavender Syrup', ' Brandy, preferably Spanish', ' Chilled Stout', ' Balsamic vinegar', ' Straight rye whiskey', ' half-and-half', ' Orange twist, green olive', ' Melon liqueur', ' Yellow Chartreuse', 'Applejack', ' Sambuca', ' Maple Syrup', ' Angostura Bitters', ' Cachaca (Brazilian rum)', 'lump sugar', ' White whiskey', ' Peach-flavored brandy', ' Campari', ' Pineapple Juice', ' Chilled Champagne,  Orange half-wheel, lime wheel', ' Bison grass vodka (Zubrowka)', ' Rhubarb Syrup', ' Curacao', 'Hot Tea', ' Fresh orange juice and orange wheel', 'Blended Scotch Whiskey', ' Raspberry Syrup', ' Strawberries, cut into halves', ' Cranberry Juice, lemon wheel', ' Crema di limoncello', ' Vanilla-flavored vodka', ' pomegranate molasses (available at Middle Eastern grocers)', ' Lemon', ' Lime Juice', ' Old Mr. Boston Creme de Cacao']\n",
            "total ingredient num : 688\n"
          ]
        }
      ]
    }
  ]
}