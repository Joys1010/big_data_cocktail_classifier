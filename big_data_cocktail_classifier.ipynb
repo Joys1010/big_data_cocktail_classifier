{
  "nbformat": 4,
  "nbformat_minor": 0,
  "metadata": {
    "colab": {
      "name": "big_data_cocktail_classifier",
      "provenance": [],
      "collapsed_sections": []
    },
    "kernelspec": {
      "name": "python3",
      "display_name": "Python 3"
    },
    "language_info": {
      "name": "python"
    }
  },
  "cells": [
    {
      "cell_type": "markdown",
      "metadata": {
        "id": "qs7SrsYdKC0e"
      },
      "source": [
        "Import libraries"
      ]
    },
    {
      "cell_type": "code",
      "metadata": {
        "id": "wUlEtJI3UWFL"
      },
      "source": [
        "import csv"
      ],
      "execution_count": null,
      "outputs": []
    },
    {
      "cell_type": "code",
      "metadata": {
        "id": "Fjyhk7yo_7xV"
      },
      "source": [
        "my_data = [] #우리의 전처리된 데이터가 여기에 담길 것"
      ],
      "execution_count": null,
      "outputs": []
    },
    {
      "cell_type": "markdown",
      "metadata": {
        "id": "JtiRjFMwKHPr"
      },
      "source": [
        "Personalized functions"
      ]
    },
    {
      "cell_type": "code",
      "metadata": {
        "id": "ef83YG_7Qsy0"
      },
      "source": [
        "def hasNumber(stringVal) :\n",
        "  return any(elem.isdigit() for elem in stringVal)"
      ],
      "execution_count": null,
      "outputs": []
    },
    {
      "cell_type": "code",
      "metadata": {
        "id": "mtStW-bvWUzy"
      },
      "source": [
        "def getDigit(stringVal) :\n",
        "  onlyDigit = ''\n",
        "  for i in stringVal :\n",
        "    if (i.isdigit()) :\n",
        "      onlyDigit += i\n",
        "  return onlyDigit"
      ],
      "execution_count": null,
      "outputs": []
    },
    {
      "cell_type": "markdown",
      "metadata": {
        "id": "oMIfwNisKMKZ"
      },
      "source": [
        "Read data from csv and pre-processing"
      ]
    },
    {
      "cell_type": "code",
      "metadata": {
        "id": "B_laKGDjUyyO"
      },
      "source": [
        "f = open('mr-boston-flattened.csv','r')\n",
        "rdr = csv.reader(f)\n",
        "\n",
        "line_count = 0\n",
        "for line in rdr :\n",
        "  if (line_count == 0) :\n",
        "    line_count += 1\n",
        "    pass\n",
        "  else :\n",
        "    #변수 초기화\n",
        "    cocktail = [] #우리 데이터 한 row\n",
        "    cocktail_ingredient_measure = [] #칵테일 성분 정보(딕셔너리의 리스트로 구성 [{성분1 : 용량}, {성분2 : 용량}, ... ])\n",
        "    measurement_list = [] \n",
        "    ingred_idx = 3 #용량에 mapping 되는 ingredient idx\n",
        "    new_measurement_list = [] #변경한 값 담는 배열\n",
        "    \n",
        "    for i in range(2,14,2) : #각 row에 measurement 뽑아서 list에 넣기\n",
        "      measurement_list.append(line[i])\n",
        "\n",
        "    for j in measurement_list : #measure\n",
        "      if (hasNumber(j) == False) : #숫자가 하나도 없고 전부 문자열인 경우\n",
        "        new_measurement_list.append(0)\n",
        "      elif (j == '') : #빈 값인 경우 읽기 때문에 0으로 변경해줌\n",
        "        new_measurement_list.append(0)\n",
        "\n",
        "      else : #'1 1/2 oz' 형식으로 되어있음 따라서 공백으로 자르고 처리\n",
        "        slice_str = []\n",
        "        slice_str = j.split()\n",
        "        total_val = 0\n",
        "        \n",
        "        for n in slice_str : #잘라진 '1' '1/2' 'oz' 처리\n",
        "          if (n.isalpha()) :\n",
        "            pass\n",
        "          else :\n",
        "            if (n.find('/') == -1) : #그냥 숫자인 경우\n",
        "              num_tmp = getDigit(n)\n",
        "\n",
        "              if (num_tmp == '') :\n",
        "                num_tmp = 0\n",
        "\n",
        "              total_val += int(num_tmp)\n",
        "            else : # 1/2 인 경우\n",
        "              idx = n.find('/')\n",
        "              divide_val = int(n[:idx]) / int(n[idx+1:])\n",
        "              total_val += divide_val\n",
        "        new_measurement_list.append(total_val)\n",
        "        \n",
        "\n",
        "### 여기까지 오면 new_measurement_list에는 숫자만 들어있음\n",
        "    total_measurement_value = sum(new_measurement_list)\n",
        "\n",
        "    for j in new_measurement_list :\n",
        "      if (line[ingred_idx] != '') :\n",
        "\n",
        "        ing_measure_pair = {line[ingred_idx] : j}\n",
        "        cocktail_ingredient_measure.append(ing_measure_pair)\n",
        "      \n",
        "      ingred_idx += 2\n",
        "\n",
        "    #칵테일 이름\n",
        "    cocktail.append(line[0])\n",
        "    #칵테일 라벨\n",
        "    cocktail.append(line[1])\n",
        "    #성분 전체 용량\n",
        "    cocktail.append(total_measurement_value)\n",
        "    #각 성분별 성분명, 용량 딕셔너리\n",
        "    cocktail.append(cocktail_ingredient_measure)\n",
        "    my_data.append(cocktail)\n",
        "\n",
        "f.close()"
      ],
      "execution_count": null,
      "outputs": []
    }
  ]
}