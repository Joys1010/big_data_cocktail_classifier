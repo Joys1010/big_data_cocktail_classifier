{
  "cells": [
    {
      "cell_type": "markdown",
      "metadata": {
        "id": "qs7SrsYdKC0e"
      },
      "source": [
        "# **Import libraries**"
      ]
    },
    {
      "cell_type": "code",
      "execution_count": 157,
      "metadata": {
        "id": "wUlEtJI3UWFL"
      },
      "outputs": [],
      "source": [
        "import csv\n",
        "import numpy as np\n",
        "import random\n",
        "import math"
      ]
    },
    {
      "cell_type": "code",
      "execution_count": 158,
      "metadata": {
        "id": "Fjyhk7yo_7xV"
      },
      "outputs": [],
      "source": [
        "my_data = [] #우리의 전처리된 데이터가 여기에 담길 것"
      ]
    },
    {
      "cell_type": "markdown",
      "metadata": {
        "id": "JtiRjFMwKHPr"
      },
      "source": [
        "# **Personalized functions** "
      ]
    },
    {
      "cell_type": "code",
      "execution_count": 159,
      "metadata": {
        "id": "ef83YG_7Qsy0"
      },
      "outputs": [],
      "source": [
        "def hasNumber(stringVal) :\n",
        "  return any(elem.isdigit() for elem in stringVal)"
      ]
    },
    {
      "cell_type": "code",
      "execution_count": 160,
      "metadata": {
        "id": "mtStW-bvWUzy"
      },
      "outputs": [],
      "source": [
        "def getDigit(stringVal) :\n",
        "  onlyDigit = ''\n",
        "  for i in stringVal :\n",
        "    if (i.isdigit()) :\n",
        "      onlyDigit += i\n",
        "  return onlyDigit"
      ]
    },
    {
      "cell_type": "markdown",
      "metadata": {
        "id": "oMIfwNisKMKZ"
      },
      "source": [
        "# **Read data from csv and pre-process data**"
      ]
    },
    {
      "cell_type": "code",
      "execution_count": 161,
      "metadata": {
        "id": "B_laKGDjUyyO"
      },
      "outputs": [],
      "source": [
        "f = open('mr-boston-flattened.csv','r')\n",
        "rdr = csv.reader(f)\n",
        "\n",
        "line_count = 0\n",
        "for line in rdr :\n",
        "  if (line_count == 0) :\n",
        "    line_count += 1\n",
        "    pass\n",
        "  else :\n",
        "    #변수 초기화\n",
        "    cocktail = [] #우리 데이터 한 row\n",
        "    cocktail_ingredient_measure = [] #칵테일 성분 정보(딕셔너리의 리스트로 구성 [{성분1 : 용량}, {성분2 : 용량}, ... ])\n",
        "    measurement_list = [] \n",
        "    ingred_idx = 3 #용량에 mapping 되는 ingredient idx\n",
        "    new_measurement_list = [] #변경한 값 담는 배열\n",
        "    \n",
        "    for i in range(2,14,2) : #각 row에 measurement 뽑아서 list에 넣기\n",
        "      measurement_list.append(line[i])\n",
        "\n",
        "    for j in measurement_list : #measure\n",
        "      if (hasNumber(j) == False) : #숫자가 하나도 없고 전부 문자열인 경우\n",
        "        new_measurement_list.append(0)\n",
        "      elif (j == '') : #빈 값인 경우 읽기 때문에 0으로 변경해줌\n",
        "        new_measurement_list.append(0)\n",
        "\n",
        "      else : #'1 1/2 oz' 형식으로 되어있음 따라서 공백으로 자르고 처리\n",
        "        slice_str = []\n",
        "        slice_str = j.split()\n",
        "        total_val = 0\n",
        "        \n",
        "        for n in slice_str : #잘라진 '1' '1/2' 'oz' 처리\n",
        "          if (n.isalpha()) :\n",
        "            pass\n",
        "          else :\n",
        "            if (n.find('/') == -1) : #그냥 숫자인 경우\n",
        "              num_tmp = getDigit(n)\n",
        "\n",
        "              if (num_tmp == '') :\n",
        "                num_tmp = 0\n",
        "\n",
        "              total_val += int(num_tmp)\n",
        "            else : # 1/2 인 경우\n",
        "              idx = n.find('/')\n",
        "              divide_val = int(n[:idx]) / int(n[idx+1:])\n",
        "              total_val += divide_val\n",
        "        new_measurement_list.append(total_val)\n",
        "        \n",
        "\n",
        "### 여기까지 오면 new_measurement_list에는 숫자만 들어있음\n",
        "    total_measurement_value = sum(new_measurement_list)\n",
        "\n",
        "    for j in new_measurement_list :\n",
        "      if (line[ingred_idx] != '') :\n",
        "\n",
        "        ing_measure_pair = {line[ingred_idx] : j}\n",
        "        cocktail_ingredient_measure.append(ing_measure_pair)\n",
        "      \n",
        "      ingred_idx += 2\n",
        "\n",
        "    #칵테일 이름\n",
        "    cocktail.append(line[0])\n",
        "    #칵테일 라벨\n",
        "    cocktail.append(line[1])\n",
        "    #성분 전체 용량\n",
        "    cocktail.append(total_measurement_value)\n",
        "    #각 성분별 성분명, 용량 딕셔너리\n",
        "    cocktail.append(cocktail_ingredient_measure)\n",
        "    my_data.append(cocktail)\n",
        "\n",
        "f.close()"
      ]
    },
    {
      "cell_type": "code",
      "execution_count": null,
      "metadata": {},
      "outputs": [],
      "source": []
    },
    {
      "cell_type": "markdown",
      "metadata": {},
      "source": []
    },
    {
      "cell_type": "code",
      "execution_count": null,
      "metadata": {},
      "outputs": [],
      "source": []
    },
    {
      "cell_type": "markdown",
      "metadata": {},
      "source": []
    },
    {
      "cell_type": "markdown",
      "metadata": {},
      "source": [
        "# **Random Data Generator**"
      ]
    },
    {
      "cell_type": "code",
      "execution_count": 162,
      "metadata": {},
      "outputs": [
        {
          "name": "stdout",
          "output_type": "stream",
          "text": [
            "['name', 'Wrong', [{' Simple Syrup': 0.4}, {' Passion Fruit Syrup': 1.0}], [{' Simple Syrup': 0.4}, {' Passion Fruit Syrup': 1.0}]]\n",
            "['name', 'Wrong', [{' Simple Syrup': 0.4}, {' Passion Fruit Syrup': 1.0}, {' Sweet Vermouth': 0.8}, {' Lime Juice': 0.6}, {' Light Rum': 1.0}], [{' Simple Syrup': 0.4}, {' Passion Fruit Syrup': 1.0}, {' Sweet Vermouth': 0.8}, {' Lime Juice': 0.6}, {' Light Rum': 1.0}], [{' Simple Syrup': 0.4}, {' Passion Fruit Syrup': 1.0}, {' Sweet Vermouth': 0.8}, {' Lime Juice': 0.6}, {' Light Rum': 1.0}]]\n",
            "['name', 'Wrong', [{' Simple Syrup': 0.4}, {' Passion Fruit Syrup': 1.0}, {' Sweet Vermouth': 0.8}, {' Lime Juice': 0.6}, {' Light Rum': 1.0}, {' Gin': 1.4}, {' Light Rum': 0.6}], [{' Simple Syrup': 0.4}, {' Passion Fruit Syrup': 1.0}, {' Sweet Vermouth': 0.8}, {' Lime Juice': 0.6}, {' Light Rum': 1.0}, {' Gin': 1.4}, {' Light Rum': 0.6}]]\n",
            "['name', 'Wrong', [{' Simple Syrup': 0.4}, {' Passion Fruit Syrup': 1.0}, {' Sweet Vermouth': 0.8}, {' Lime Juice': 0.6}, {' Light Rum': 1.0}, {' Gin': 1.4}, {' Light Rum': 0.6}, {' Gin': 0.2}, {' Light Rum': 1.0}], [{' Simple Syrup': 0.4}, {' Passion Fruit Syrup': 1.0}, {' Sweet Vermouth': 0.8}, {' Lime Juice': 0.6}, {' Light Rum': 1.0}, {' Gin': 1.4}, {' Light Rum': 0.6}, {' Gin': 0.2}, {' Light Rum': 1.0}]]\n",
            "['name', 'Wrong', [{' Simple Syrup': 0.4}, {' Passion Fruit Syrup': 1.0}, {' Sweet Vermouth': 0.8}, {' Lime Juice': 0.6}, {' Light Rum': 1.0}, {' Gin': 1.4}, {' Light Rum': 0.6}, {' Gin': 0.2}, {' Light Rum': 1.0}, {' Gin': 0.2}, {' Light Rum': 1.4}, {' Light Rum': 1.4}], [{' Simple Syrup': 0.4}, {' Passion Fruit Syrup': 1.0}, {' Sweet Vermouth': 0.8}, {' Lime Juice': 0.6}, {' Light Rum': 1.0}, {' Gin': 1.4}, {' Light Rum': 0.6}, {' Gin': 0.2}, {' Light Rum': 1.0}, {' Gin': 0.2}, {' Light Rum': 1.4}, {' Light Rum': 1.4}], [{' Simple Syrup': 0.4}, {' Passion Fruit Syrup': 1.0}, {' Sweet Vermouth': 0.8}, {' Lime Juice': 0.6}, {' Light Rum': 1.0}, {' Gin': 1.4}, {' Light Rum': 0.6}, {' Gin': 0.2}, {' Light Rum': 1.0}, {' Gin': 0.2}, {' Light Rum': 1.4}, {' Light Rum': 1.4}]]\n",
            "['name', 'Wrong', [{' Simple Syrup': 0.4}, {' Passion Fruit Syrup': 1.0}, {' Sweet Vermouth': 0.8}, {' Lime Juice': 0.6}, {' Light Rum': 1.0}, {' Gin': 1.4}, {' Light Rum': 0.6}, {' Gin': 0.2}, {' Light Rum': 1.0}, {' Gin': 0.2}, {' Light Rum': 1.4}, {' Light Rum': 1.4}, {' Citrus-flavored vodka': 0.2}, {' Lemon Juice': 1.8}, {' Light Rum': 1.4}], [{' Simple Syrup': 0.4}, {' Passion Fruit Syrup': 1.0}, {' Sweet Vermouth': 0.8}, {' Lime Juice': 0.6}, {' Light Rum': 1.0}, {' Gin': 1.4}, {' Light Rum': 0.6}, {' Gin': 0.2}, {' Light Rum': 1.0}, {' Gin': 0.2}, {' Light Rum': 1.4}, {' Light Rum': 1.4}, {' Citrus-flavored vodka': 0.2}, {' Lemon Juice': 1.8}, {' Light Rum': 1.4}], [{' Simple Syrup': 0.4}, {' Passion Fruit Syrup': 1.0}, {' Sweet Vermouth': 0.8}, {' Lime Juice': 0.6}, {' Light Rum': 1.0}, {' Gin': 1.4}, {' Light Rum': 0.6}, {' Gin': 0.2}, {' Light Rum': 1.0}, {' Gin': 0.2}, {' Light Rum': 1.4}, {' Light Rum': 1.4}, {' Citrus-flavored vodka': 0.2}, {' Lemon Juice': 1.8}, {' Light Rum': 1.4}]]\n",
            "['name', 'Wrong', [{' Simple Syrup': 0.4}, {' Passion Fruit Syrup': 1.0}, {' Sweet Vermouth': 0.8}, {' Lime Juice': 0.6}, {' Light Rum': 1.0}, {' Gin': 1.4}, {' Light Rum': 0.6}, {' Gin': 0.2}, {' Light Rum': 1.0}, {' Gin': 0.2}, {' Light Rum': 1.4}, {' Light Rum': 1.4}, {' Citrus-flavored vodka': 0.2}, {' Lemon Juice': 1.8}, {' Light Rum': 1.4}, {' Bourbon': 0.2}, {' Light Rum': 0.6}], [{' Simple Syrup': 0.4}, {' Passion Fruit Syrup': 1.0}, {' Sweet Vermouth': 0.8}, {' Lime Juice': 0.6}, {' Light Rum': 1.0}, {' Gin': 1.4}, {' Light Rum': 0.6}, {' Gin': 0.2}, {' Light Rum': 1.0}, {' Gin': 0.2}, {' Light Rum': 1.4}, {' Light Rum': 1.4}, {' Citrus-flavored vodka': 0.2}, {' Lemon Juice': 1.8}, {' Light Rum': 1.4}, {' Bourbon': 0.2}, {' Light Rum': 0.6}]]\n",
            "['name', 'Wrong', [{' Simple Syrup': 0.4}, {' Passion Fruit Syrup': 1.0}, {' Sweet Vermouth': 0.8}, {' Lime Juice': 0.6}, {' Light Rum': 1.0}, {' Gin': 1.4}, {' Light Rum': 0.6}, {' Gin': 0.2}, {' Light Rum': 1.0}, {' Gin': 0.2}, {' Light Rum': 1.4}, {' Light Rum': 1.4}, {' Citrus-flavored vodka': 0.2}, {' Lemon Juice': 1.8}, {' Light Rum': 1.4}, {' Bourbon': 0.2}, {' Light Rum': 0.6}, {' Brandy': 0.6}, {' Light Rum': 1.0}], [{' Simple Syrup': 0.4}, {' Passion Fruit Syrup': 1.0}, {' Sweet Vermouth': 0.8}, {' Lime Juice': 0.6}, {' Light Rum': 1.0}, {' Gin': 1.4}, {' Light Rum': 0.6}, {' Gin': 0.2}, {' Light Rum': 1.0}, {' Gin': 0.2}, {' Light Rum': 1.4}, {' Light Rum': 1.4}, {' Citrus-flavored vodka': 0.2}, {' Lemon Juice': 1.8}, {' Light Rum': 1.4}, {' Bourbon': 0.2}, {' Light Rum': 0.6}, {' Brandy': 0.6}, {' Light Rum': 1.0}]]\n",
            "['name', 'Wrong', [{' Simple Syrup': 0.4}, {' Passion Fruit Syrup': 1.0}, {' Sweet Vermouth': 0.8}, {' Lime Juice': 0.6}, {' Light Rum': 1.0}, {' Gin': 1.4}, {' Light Rum': 0.6}, {' Gin': 0.2}, {' Light Rum': 1.0}, {' Gin': 0.2}, {' Light Rum': 1.4}, {' Light Rum': 1.4}, {' Citrus-flavored vodka': 0.2}, {' Lemon Juice': 1.8}, {' Light Rum': 1.4}, {' Bourbon': 0.2}, {' Light Rum': 0.6}, {' Brandy': 0.6}, {' Light Rum': 1.0}, {' Gin': 1.8}, {' Light Rum': 0.8}, {' Light Rum': 0.6}], [{' Simple Syrup': 0.4}, {' Passion Fruit Syrup': 1.0}, {' Sweet Vermouth': 0.8}, {' Lime Juice': 0.6}, {' Light Rum': 1.0}, {' Gin': 1.4}, {' Light Rum': 0.6}, {' Gin': 0.2}, {' Light Rum': 1.0}, {' Gin': 0.2}, {' Light Rum': 1.4}, {' Light Rum': 1.4}, {' Citrus-flavored vodka': 0.2}, {' Lemon Juice': 1.8}, {' Light Rum': 1.4}, {' Bourbon': 0.2}, {' Light Rum': 0.6}, {' Brandy': 0.6}, {' Light Rum': 1.0}, {' Gin': 1.8}, {' Light Rum': 0.8}, {' Light Rum': 0.6}], [{' Simple Syrup': 0.4}, {' Passion Fruit Syrup': 1.0}, {' Sweet Vermouth': 0.8}, {' Lime Juice': 0.6}, {' Light Rum': 1.0}, {' Gin': 1.4}, {' Light Rum': 0.6}, {' Gin': 0.2}, {' Light Rum': 1.0}, {' Gin': 0.2}, {' Light Rum': 1.4}, {' Light Rum': 1.4}, {' Citrus-flavored vodka': 0.2}, {' Lemon Juice': 1.8}, {' Light Rum': 1.4}, {' Bourbon': 0.2}, {' Light Rum': 0.6}, {' Brandy': 0.6}, {' Light Rum': 1.0}, {' Gin': 1.8}, {' Light Rum': 0.8}, {' Light Rum': 0.6}]]\n",
            "['name', 'Wrong', [{' Simple Syrup': 0.4}, {' Passion Fruit Syrup': 1.0}, {' Sweet Vermouth': 0.8}, {' Lime Juice': 0.6}, {' Light Rum': 1.0}, {' Gin': 1.4}, {' Light Rum': 0.6}, {' Gin': 0.2}, {' Light Rum': 1.0}, {' Gin': 0.2}, {' Light Rum': 1.4}, {' Light Rum': 1.4}, {' Citrus-flavored vodka': 0.2}, {' Lemon Juice': 1.8}, {' Light Rum': 1.4}, {' Bourbon': 0.2}, {' Light Rum': 0.6}, {' Brandy': 0.6}, {' Light Rum': 1.0}, {' Gin': 1.8}, {' Light Rum': 0.8}, {' Light Rum': 0.6}, {' Lemon twist': 1.4}, {' Light Rum': 1.2}, {' Light Rum': 1.8}], [{' Simple Syrup': 0.4}, {' Passion Fruit Syrup': 1.0}, {' Sweet Vermouth': 0.8}, {' Lime Juice': 0.6}, {' Light Rum': 1.0}, {' Gin': 1.4}, {' Light Rum': 0.6}, {' Gin': 0.2}, {' Light Rum': 1.0}, {' Gin': 0.2}, {' Light Rum': 1.4}, {' Light Rum': 1.4}, {' Citrus-flavored vodka': 0.2}, {' Lemon Juice': 1.8}, {' Light Rum': 1.4}, {' Bourbon': 0.2}, {' Light Rum': 0.6}, {' Brandy': 0.6}, {' Light Rum': 1.0}, {' Gin': 1.8}, {' Light Rum': 0.8}, {' Light Rum': 0.6}, {' Lemon twist': 1.4}, {' Light Rum': 1.2}, {' Light Rum': 1.8}], [{' Simple Syrup': 0.4}, {' Passion Fruit Syrup': 1.0}, {' Sweet Vermouth': 0.8}, {' Lime Juice': 0.6}, {' Light Rum': 1.0}, {' Gin': 1.4}, {' Light Rum': 0.6}, {' Gin': 0.2}, {' Light Rum': 1.0}, {' Gin': 0.2}, {' Light Rum': 1.4}, {' Light Rum': 1.4}, {' Citrus-flavored vodka': 0.2}, {' Lemon Juice': 1.8}, {' Light Rum': 1.4}, {' Bourbon': 0.2}, {' Light Rum': 0.6}, {' Brandy': 0.6}, {' Light Rum': 1.0}, {' Gin': 1.8}, {' Light Rum': 0.8}, {' Light Rum': 0.6}, {' Lemon twist': 1.4}, {' Light Rum': 1.2}, {' Light Rum': 1.8}]]\n"
          ]
        }
      ],
      "source": [
        "listofIngredients = []\n",
        "\n",
        "for i in range (len(my_data)):\n",
        "    for j in range(len(my_data[i][3])) :\n",
        "        if list(my_data[i][3][j].keys()) not in listofIngredients:\n",
        "            listofIngredients.append(''.join(list(my_data[i][3][j].keys())))\n",
        "\n",
        "RandomGenerateNum = 10\n",
        "\n",
        "\n",
        "\n",
        "\n",
        "for i in range(RandomGenerateNum):\n",
        "    generated_recipe = [] # 추가할 wrong label 레시피\n",
        "    generated_ingredients = [] # 레시피 담을 변수\n",
        "    relation = np.zeros(len(listofIngredients))\n",
        "    ingredient_index = random.randrange(0, len(my_data) - 1)\n",
        "    generated_recipe = []    \n",
        "    generated_recipe.append('name')\n",
        "    generated_recipe.append('Wrong')\n",
        "    for _ in range (random.randrange(2,4)):\n",
        "        generated_ingredients.append({listofIngredients[ingredient_index] : round(random.randrange(1,10) * 0.2, 1)})\n",
        "        for j in range (len(my_data)):\n",
        "            for k in range(len(my_data[j][3])):\n",
        "                if listofIngredients[ingredient_index] == ''.join(list(my_data[j][3][k].keys())):\n",
        "                    for t in range(len(my_data[j][3])):\n",
        "                        relation[listofIngredients.index(''.join(list(my_data[j][3][t].keys())))] += 1\n",
        "\n",
        "        ingredient_index = np.argmin(relation)\n",
        "        generated_recipe.append(generated_ingredients)\n",
        "    my_data.append(generated_recipe)\n",
        "    print(generated_recipe)"
      ]
    },
    {
      "cell_type": "code",
      "execution_count": null,
      "metadata": {},
      "outputs": [],
      "source": []
    }
  ],
  "metadata": {
    "colab": {
      "collapsed_sections": [],
      "name": "big_data_cocktail_classifier",
      "provenance": []
    },
    "kernelspec": {
      "display_name": "Python 3",
      "name": "python3"
    },
    "language_info": {
      "codemirror_mode": {
        "name": "ipython",
        "version": 3
      },
      "file_extension": ".py",
      "mimetype": "text/x-python",
      "name": "python",
      "nbconvert_exporter": "python",
      "pygments_lexer": "ipython3",
      "version": "3.9.2"
    }
  },
  "nbformat": 4,
  "nbformat_minor": 0
}
